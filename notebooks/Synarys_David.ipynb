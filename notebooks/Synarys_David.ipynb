{
 "cells": [
  {
   "cell_type": "markdown",
   "id": "87506a15",
   "metadata": {},
   "source": [
    "# 💞 Vectorisation & Matching"
   ]
  },
  {
   "cell_type": "code",
   "execution_count": 1,
   "id": "03b94991",
   "metadata": {},
   "outputs": [
    {
     "name": "stderr",
     "output_type": "stream",
     "text": [
      "[nltk_data] Downloading package punkt to\n",
      "[nltk_data]     /home/david_veryser/nltk_data...\n",
      "[nltk_data]   Package punkt is already up-to-date!\n",
      "[nltk_data] Downloading package stopwords to\n",
      "[nltk_data]     /home/david_veryser/nltk_data...\n",
      "[nltk_data]   Package stopwords is already up-to-date!\n",
      "[nltk_data] Downloading package wordnet to\n",
      "[nltk_data]     /home/david_veryser/nltk_data...\n",
      "[nltk_data]   Package wordnet is already up-to-date!\n",
      "[nltk_data] Downloading package averaged_perceptron_tagger_eng to\n",
      "[nltk_data]     /home/david_veryser/nltk_data...\n",
      "[nltk_data]   Package averaged_perceptron_tagger_eng is already up-to-\n",
      "[nltk_data]       date!\n"
     ]
    },
    {
     "name": "stdout",
     "output_type": "stream",
     "text": [
      "reimagining digital presence help midsize empower user interaction customer engagement elegant design\n"
     ]
    }
   ],
   "source": [
    "# Imports principaux\n",
    "import pandas as pd\n",
    "import numpy as np\n",
    "from sklearn.feature_extraction.text import TfidfVectorizer\n",
    "from packagename.preprocessing import cleaning\n",
    "from packagename.matching import vectorize_missions_dataset, get_top_20_leads\n",
    "\n",
    "from sklearn.metrics.pairwise import cosine_similarity\n",
    "from scipy.sparse import vstack"
   ]
  },
  {
   "cell_type": "code",
   "execution_count": 2,
   "id": "d81962cc",
   "metadata": {},
   "outputs": [],
   "source": [
    "freelance_df = pd.read_csv('../generate_datasets/freelances_dataset.csv', index_col='freelance_id').reset_index(drop=True)\n",
    "prospect_df = pd.read_csv('../generate_datasets/prospects_dataset.csv', index_col='prospect_id').reset_index(drop=True)\n"
   ]
  },
  {
   "cell_type": "code",
   "execution_count": 3,
   "id": "8353724a",
   "metadata": {},
   "outputs": [],
   "source": [
    "freelance_df['TfidfVect']=freelance_df['mission_statement'].apply(cleaning)\n",
    "prospect_df['TfidfVect']=prospect_df['mission_statement'].apply(cleaning)"
   ]
  },
  {
   "cell_type": "code",
   "execution_count": null,
   "id": "2b95c8cd",
   "metadata": {},
   "outputs": [
    {
     "data": {
      "text/plain": [
       "Index(['company', 'sector', 'main_contact', 'contact_role', 'city',\n",
       "       'mission_statement', 'company_size', 'funding_stage',\n",
       "       'ticket_size_class', 'target_tone', 'remote', 'email', 'TfidfVect'],\n",
       "      dtype='object')"
      ]
     },
     "execution_count": 7,
     "metadata": {},
     "output_type": "execute_result"
    }
   ],
   "source": [
    "prospect_df.columns"
   ]
  },
  {
   "cell_type": "code",
   "execution_count": 34,
   "id": "57a32eaf",
   "metadata": {},
   "outputs": [],
   "source": [
    "freelance_df_vectorized, prospect_df_vectorized, vectorizer = vectorize_missions_dataset(freelance_df, prospect_df)"
   ]
  },
  {
   "cell_type": "code",
   "execution_count": 36,
   "id": "542966af",
   "metadata": {},
   "outputs": [
    {
     "data": {
      "text/plain": [
       "Index(['name', 'title', 'main_sector', 'top3_skills', 'city', 'daily_rate',\n",
       "       'mission_statement', 'preferred_tone', 'preferred_style', 'remote',\n",
       "       'email', 'TfidfVect', 'tfidf_vector'],\n",
       "      dtype='object')"
      ]
     },
     "execution_count": 36,
     "metadata": {},
     "output_type": "execute_result"
    }
   ],
   "source": [
    "freelance_df_vectorized.columns"
   ]
  },
  {
   "cell_type": "code",
   "execution_count": 38,
   "id": "80207af3",
   "metadata": {},
   "outputs": [
    {
     "name": "stdout",
     "output_type": "stream",
     "text": [
      "Informations sur le freelance sélectionné (index 2) :\n",
      "name                                                    Colleen Taylor\n",
      "title                                       Health & Wellness Coaching\n",
      "main_sector                                                   Wellness\n",
      "mission_statement    Colleen Taylor inspires holistic well-being wi...\n",
      "top3_skills                          Yoga|Community Management|Pilates\n",
      "city                                                            Redcar\n",
      "daily_rate                                                      370.49\n",
      "remote                                                             Yes\n",
      "preferred_tone                                                Creative\n",
      "preferred_style                                                   Warm\n",
      "Name: 2, dtype: object\n"
     ]
    }
   ],
   "source": [
    "freelance_index = 2\n",
    "freelance = freelance_df_vectorized.iloc[freelance_index]\n",
    "print(\"Informations sur le freelance sélectionné (index 2) :\")\n",
    "print(freelance[['name', 'title', 'main_sector', 'mission_statement', 'top3_skills', 'city', 'daily_rate', 'remote', 'preferred_tone', 'preferred_style']])\n"
   ]
  },
  {
   "cell_type": "code",
   "execution_count": 41,
   "id": "dc164961",
   "metadata": {},
   "outputs": [],
   "source": [
    "freelance_vec = freelance_df_vectorized['tfidf_vector'].iloc[freelance_index]\n",
    "top_20_df = get_top_20_leads(freelance_vec, prospect_df_vectorized)"
   ]
  },
  {
   "cell_type": "code",
   "execution_count": 42,
   "id": "5938f247",
   "metadata": {},
   "outputs": [
    {
     "name": "stdout",
     "output_type": "stream",
     "text": [
      "\n",
      "Informations sur le prospect sélectionné (index 5) :\n",
      "company          Shaw, Hanson and Alvarado\n",
      "sector                            Wellness\n",
      "main_contact                 Michael Adams\n",
      "contact_role                           CTO\n",
      "city                           Bournemouth\n",
      "company_size           Mid-size (201-1000)\n",
      "funding_stage                    Series C+\n",
      "remote                                 Yes\n",
      "target_tone                      Energetic\n",
      "Name: 2316, dtype: object\n"
     ]
    }
   ],
   "source": [
    "# Sélectionner le prospect à l'index 5\n",
    "prospect = top_20_df.iloc[5]\n",
    "print(\"\\nInformations sur le prospect sélectionné (index 5) :\")\n",
    "prospect_columns = ['company', 'sector', 'main_contact', 'contact_role',\n",
    "                    'city', 'company_size', 'funding_stage', 'remote', 'target_tone']\n",
    "available_prospect_columns = [col for col in prospect_columns if col in prospect_df_vectorized.columns]\n",
    "print(prospect[available_prospect_columns])"
   ]
  },
  {
   "cell_type": "markdown",
   "id": "11178ed3",
   "metadata": {},
   "source": [
    "# 📧 Mail generator"
   ]
  },
  {
   "cell_type": "code",
   "execution_count": 21,
   "id": "6600cdd5",
   "metadata": {},
   "outputs": [],
   "source": [
    "from langchain.chat_models import init_chat_model\n",
    "from IPython.display import Markdown\n",
    "import time"
   ]
  },
  {
   "cell_type": "code",
   "execution_count": 44,
   "id": "d238c8df",
   "metadata": {},
   "outputs": [],
   "source": [
    "def mail_generator(freelance, prospect):\n",
    "    \"\"\"\n",
    "    Génère un email de prospection personnalisé en anglais à partir des données d’un freelance et d’une entreprise cible.\n",
    "\n",
    "    Paramètres :\n",
    "    -----------\n",
    "    freelance : dict\n",
    "        Dictionnaire contenant les informations du freelance :\n",
    "        - 'name' : Nom complet\n",
    "        - 'title' : Titre ou métier\n",
    "        - 'main_sector' : Secteur principal d’activité\n",
    "        - 'city' : Ville\n",
    "        - 'top3_skills' : Compétences clés (format texte)\n",
    "        - 'daily_rate' : Tarif journalier\n",
    "        - 'remote' : \"Yes\"/\"No\"\n",
    "        - 'mission_statement' : Résumé de la proposition de valeur\n",
    "        - 'preferred_tone' : Ton préféré (ex. : Professional)\n",
    "        - 'preferred_style' : Style préféré (ex. : Storytelling)\n",
    "\n",
    "    prospect : pandas.Series ou dict\n",
    "        Informations sur l’entreprise cible :\n",
    "        - 'company' : Nom de l’entreprise\n",
    "        - 'city' : Ville\n",
    "        - 'sector' : Secteur d’activité\n",
    "        - 'main_contact' : Nom du contact principal\n",
    "        - 'contact_role' : Poste du contact\n",
    "        - 'company_size' : Taille de l’entreprise\n",
    "        - 'funding_stage' : Stade de financement\n",
    "        - 'remote' : \"Yes\"/\"No\"\n",
    "        - 'target_tone' : Ton attendu côté entreprise\n",
    "\n",
    "    Retour :\n",
    "    --------\n",
    "    prospect : pandas.Series ou dict\n",
    "        Le même objet que `prospect` mais avec un champ supplémentaire 'mail' contenant l’email généré.\n",
    "    \"\"\"\n",
    "\n",
    "    model = init_chat_model(\"gemini-2.0-flash\", model_provider=\"google_genai\")\n",
    "    prospect = prospect.copy()\n",
    "\n",
    "    prompt = f\"\"\"\n",
    "    Write a clear, professional, and personalized cold email in English, addressed to {prospect['main_contact']} ({prospect['contact_role']})\n",
    "    from the company {prospect['company']}, based in {prospect['city']} and operating in the {prospect['sector']} sector.\n",
    "\n",
    "    You are {freelance['name']}, a {freelance['title']} based in {freelance['city']}, specialized in the {freelance['main_sector']} sector.\n",
    "    You provide services with expertise in {freelance['top3_skills']}, at a daily rate of {freelance['daily_rate']} EUR (remote: {freelance['remote']}).\n",
    "    Your mission is: {freelance['mission_statement']}\n",
    "\n",
    "    The company is a {prospect['company_size']} at the {prospect['funding_stage']} stage, and remote work availability is {prospect['remote']}.\n",
    "\n",
    "    The email should:\n",
    "    - Open with a brief and relevant introduction.\n",
    "    - Present the value you can bring to this company in 2–3 concise sentences.\n",
    "    - Match the company's tone: {prospect['target_tone']}, while reflecting your preferred tone: {freelance['preferred_tone']} and style: {freelance['preferred_style']}.\n",
    "    - Be business-oriented and adapted to the company's context.\n",
    "    - End with a clear, actionable closing (e.g., propose a short call or ask for availability).\n",
    "    - Sign with your name\n",
    "    Ensure the language is polite, direct, and free from repetition or generic phrases. Avoid using placeholders or uncertain formulations.\n",
    "    Return only the body of the email (no subject line or explanation).\n",
    "    \"\"\"\n",
    "\n",
    "    try:\n",
    "        response = model.invoke(prompt)\n",
    "        content = response.content if hasattr(response, \"content\") else str(response)\n",
    "    except Exception as e:\n",
    "        print(f\"Error : {e}\")\n",
    "        content = f\"ERROR: {e}\"\n",
    "\n",
    "    prospect['mail'] = response.__dict__['content']\n",
    "\n",
    "    return prospect\n"
   ]
  },
  {
   "cell_type": "code",
   "execution_count": 45,
   "id": "8cb33099",
   "metadata": {},
   "outputs": [
    {
     "name": "stderr",
     "output_type": "stream",
     "text": [
      "Retrying langchain_google_genai.chat_models._chat_with_retry.<locals>._chat_with_retry in 2.0 seconds as it raised PermissionDenied: 403 Generative Language API has not been used in project 1084728417149 before or it is disabled. Enable it by visiting https://console.developers.google.com/apis/api/generativelanguage.googleapis.com/overview?project=1084728417149 then retry. If you enabled this API recently, wait a few minutes for the action to propagate to our systems and retry. [reason: \"SERVICE_DISABLED\"\n",
      "domain: \"googleapis.com\"\n",
      "metadata {\n",
      "  key: \"service\"\n",
      "  value: \"generativelanguage.googleapis.com\"\n",
      "}\n",
      "metadata {\n",
      "  key: \"serviceTitle\"\n",
      "  value: \"Generative Language API\"\n",
      "}\n",
      "metadata {\n",
      "  key: \"containerInfo\"\n",
      "  value: \"1084728417149\"\n",
      "}\n",
      "metadata {\n",
      "  key: \"consumer\"\n",
      "  value: \"projects/1084728417149\"\n",
      "}\n",
      "metadata {\n",
      "  key: \"activationUrl\"\n",
      "  value: \"https://console.developers.google.com/apis/api/generativelanguage.googleapis.com/overview?project=1084728417149\"\n",
      "}\n",
      ", locale: \"en-US\"\n",
      "message: \"Generative Language API has not been used in project 1084728417149 before or it is disabled. Enable it by visiting https://console.developers.google.com/apis/api/generativelanguage.googleapis.com/overview?project=1084728417149 then retry. If you enabled this API recently, wait a few minutes for the action to propagate to our systems and retry.\"\n",
      ", links {\n",
      "  description: \"Google developers console API activation\"\n",
      "  url: \"https://console.developers.google.com/apis/api/generativelanguage.googleapis.com/overview?project=1084728417149\"\n",
      "}\n",
      "].\n"
     ]
    },
    {
     "name": "stdout",
     "output_type": "stream",
     "text": [
      "Error : 403 Generative Language API has not been used in project 1084728417149 before or it is disabled. Enable it by visiting https://console.developers.google.com/apis/api/generativelanguage.googleapis.com/overview?project=1084728417149 then retry. If you enabled this API recently, wait a few minutes for the action to propagate to our systems and retry. [reason: \"SERVICE_DISABLED\"\n",
      "domain: \"googleapis.com\"\n",
      "metadata {\n",
      "  key: \"service\"\n",
      "  value: \"generativelanguage.googleapis.com\"\n",
      "}\n",
      "metadata {\n",
      "  key: \"serviceTitle\"\n",
      "  value: \"Generative Language API\"\n",
      "}\n",
      "metadata {\n",
      "  key: \"containerInfo\"\n",
      "  value: \"1084728417149\"\n",
      "}\n",
      "metadata {\n",
      "  key: \"consumer\"\n",
      "  value: \"projects/1084728417149\"\n",
      "}\n",
      "metadata {\n",
      "  key: \"activationUrl\"\n",
      "  value: \"https://console.developers.google.com/apis/api/generativelanguage.googleapis.com/overview?project=1084728417149\"\n",
      "}\n",
      ", locale: \"en-US\"\n",
      "message: \"Generative Language API has not been used in project 1084728417149 before or it is disabled. Enable it by visiting https://console.developers.google.com/apis/api/generativelanguage.googleapis.com/overview?project=1084728417149 then retry. If you enabled this API recently, wait a few minutes for the action to propagate to our systems and retry.\"\n",
      ", links {\n",
      "  description: \"Google developers console API activation\"\n",
      "  url: \"https://console.developers.google.com/apis/api/generativelanguage.googleapis.com/overview?project=1084728417149\"\n",
      "}\n",
      "]\n"
     ]
    },
    {
     "ename": "UnboundLocalError",
     "evalue": "local variable 'response' referenced before assignment",
     "output_type": "error",
     "traceback": [
      "\u001b[0;31m---------------------------------------------------------------------------\u001b[0m",
      "\u001b[0;31mUnboundLocalError\u001b[0m                         Traceback (most recent call last)",
      "Cell \u001b[0;32mIn[45], line 1\u001b[0m\n\u001b[0;32m----> 1\u001b[0m prospect_mail \u001b[38;5;241m=\u001b[39m \u001b[43mmail_generator\u001b[49m\u001b[43m(\u001b[49m\u001b[43mfreelance\u001b[49m\u001b[43m,\u001b[49m\u001b[43m \u001b[49m\u001b[43mprospect\u001b[49m\u001b[43m)\u001b[49m\n\u001b[1;32m      2\u001b[0m Markdown(prospect_mail[\u001b[38;5;124m'\u001b[39m\u001b[38;5;124mmail\u001b[39m\u001b[38;5;124m'\u001b[39m])\n",
      "Cell \u001b[0;32mIn[44], line 69\u001b[0m, in \u001b[0;36mmail_generator\u001b[0;34m(freelance, prospect)\u001b[0m\n\u001b[1;32m     66\u001b[0m     \u001b[38;5;28mprint\u001b[39m(\u001b[38;5;124mf\u001b[39m\u001b[38;5;124m\"\u001b[39m\u001b[38;5;124mError : \u001b[39m\u001b[38;5;132;01m{\u001b[39;00me\u001b[38;5;132;01m}\u001b[39;00m\u001b[38;5;124m\"\u001b[39m)\n\u001b[1;32m     67\u001b[0m     content \u001b[38;5;241m=\u001b[39m \u001b[38;5;124mf\u001b[39m\u001b[38;5;124m\"\u001b[39m\u001b[38;5;124mERROR: \u001b[39m\u001b[38;5;132;01m{\u001b[39;00me\u001b[38;5;132;01m}\u001b[39;00m\u001b[38;5;124m\"\u001b[39m\n\u001b[0;32m---> 69\u001b[0m prospect[\u001b[38;5;124m'\u001b[39m\u001b[38;5;124mmail\u001b[39m\u001b[38;5;124m'\u001b[39m] \u001b[38;5;241m=\u001b[39m \u001b[43mresponse\u001b[49m\u001b[38;5;241m.\u001b[39m\u001b[38;5;18m__dict__\u001b[39m[\u001b[38;5;124m'\u001b[39m\u001b[38;5;124mcontent\u001b[39m\u001b[38;5;124m'\u001b[39m]\n\u001b[1;32m     71\u001b[0m \u001b[38;5;28;01mreturn\u001b[39;00m prospect\n",
      "\u001b[0;31mUnboundLocalError\u001b[0m: local variable 'response' referenced before assignment"
     ]
    }
   ],
   "source": [
    "prospect_mail = mail_generator(freelance, prospect)\n",
    "Markdown(prospect_mail['mail'])"
   ]
  },
  {
   "cell_type": "code",
   "execution_count": null,
   "id": "410bcbbb",
   "metadata": {},
   "outputs": [],
   "source": []
  }
 ],
 "metadata": {
  "kernelspec": {
   "display_name": "leadcraftr_projet",
   "language": "python",
   "name": "python3"
  },
  "language_info": {
   "codemirror_mode": {
    "name": "ipython",
    "version": 3
   },
   "file_extension": ".py",
   "mimetype": "text/x-python",
   "name": "python",
   "nbconvert_exporter": "python",
   "pygments_lexer": "ipython3",
   "version": "3.10.6"
  }
 },
 "nbformat": 4,
 "nbformat_minor": 5
}
