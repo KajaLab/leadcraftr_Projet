{
 "cells": [
  {
   "cell_type": "markdown",
   "id": "87506a15",
   "metadata": {},
   "source": [
    "# 🧠 LeadCraftr - Vectorisation & Matching"
   ]
  },
  {
   "cell_type": "code",
   "execution_count": null,
   "id": "03b94991",
   "metadata": {},
   "outputs": [],
   "source": [
    "# Imports principaux\n",
    "import pandas as pd\n",
    "import numpy as np\n",
    "from sklearn.feature_extraction.text import TfidfVectorizer\n",
    "from sklearn.metrics.pairwise import cosine_similarity\n"
   ]
  },
  {
   "cell_type": "code",
   "execution_count": null,
   "id": "57a32eaf",
   "metadata": {},
   "outputs": [],
   "source": [
    "# TF-IDF vectorisation des missions\n",
    "vectorizer = TfidfVectorizer(stop_words='english')\n",
    "freelance_tfidf = vectorizer.fit_transform(freelance_df[\"mission_statement\"])\n",
    "prospect_tfidf = vectorizer.transform(prospect_df[\"mission_statement\"])"
   ]
  },
  {
   "cell_type": "code",
   "execution_count": null,
   "id": "80207af3",
   "metadata": {},
   "outputs": [],
   "source": [
    "# Fonction pour récupérer les 20 meilleurs prospects pour un freelance donné\n",
    "def top_20_leads_for_freelance(freelance_index):\n",
    "    freelance_vec = freelance_tfidf[freelance_index]\n",
    "    similarities = cosine_similarity(freelance_vec, prospect_tfidf).flatten()\n",
    "    top_20_indices = similarities.argsort()[-20:][::-1]\n",
    "    return prospect_df.loc[top_20_indices].assign(\n",
    "        similarity=similarities[top_20_indices],\n",
    "        freelance_id=freelance_index\n",
    "    )"
   ]
  }
 ],
 "metadata": {
  "kernelspec": {
   "display_name": "Python 3",
   "language": "python",
   "name": "python3"
  },
  "language_info": {
   "name": "python",
   "version": "3.x"
  }
 },
 "nbformat": 4,
 "nbformat_minor": 5
}
